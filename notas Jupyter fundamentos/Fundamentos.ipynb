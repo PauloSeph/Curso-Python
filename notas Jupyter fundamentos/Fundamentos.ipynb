{
 "cells": [
  {
   "cell_type": "code",
   "execution_count": 1,
   "metadata": {},
   "outputs": [
    {
     "name": "stdout",
     "output_type": "stream",
     "text": [
      "25 Graus Celsi\n"
     ]
    }
   ],
   "source": [
    "print('25 Graus Celsi')"
   ]
  },
  {
   "cell_type": "markdown",
   "metadata": {},
   "source": [
    "# Exemplos anteriores."
   ]
  },
  {
   "cell_type": "code",
   "execution_count": 3,
   "metadata": {},
   "outputs": [
    {
     "data": {
      "text/plain": [
       "25.0"
      ]
     },
     "execution_count": 3,
     "metadata": {},
     "output_type": "execute_result"
    }
   ],
   "source": [
    "a = 2\n",
    "b = 3\n",
    "a + b\n",
    "_ ** 3 # _ quer dizer que puxo o resultado do a + b e trouxe para _ ** 3, 5 no caso elevado a 3.\n",
    "_ / 5 # pega o resultado anterior 125 no caso e divide por 5, no caso 25.0"
   ]
  },
  {
   "cell_type": "markdown",
   "metadata": {},
   "source": [
    "# Primeiros Exemplos"
   ]
  },
  {
   "cell_type": "code",
   "execution_count": null,
   "metadata": {},
   "outputs": [],
   "source": [
    "print('Primeiro programa') #dentro de '' da para escrever o portugues ou qualquer coisa.\n",
    "1 \\   #usando \\ da para quebrar linha, no caso 1 + 5, a \\ quebra a linha.\n",
    "+ 5"
   ]
  },
  {
   "cell_type": "code",
   "execution_count": null,
   "metadata": {},
   "outputs": [],
   "source": [
    "1 + 2 + 3 # somente a primeira operaçao sera mostrada, a nao ser que coloque print em todas. Igual a baixo\n",
    "4 + 5 + 6"
   ]
  },
  {
   "cell_type": "code",
   "execution_count": null,
   "metadata": {},
   "outputs": [],
   "source": [
    "print(1 + 2 + 3)\n",
    "print(4 + 5 + 6)"
   ]
  },
  {
   "cell_type": "markdown",
   "metadata": {},
   "source": [
    "#  Tipos Basicos"
   ]
  },
  {
   "cell_type": "code",
   "execution_count": 11,
   "metadata": {},
   "outputs": [
    {
     "name": "stdout",
     "output_type": "stream",
     "text": [
      "True\n",
      "False\n",
      "2.2\n",
      "Aqui eu falo na minha lingua ou qualquer outra\n",
      "Também funciona com aspas duplas.\n",
      "Você e muito muito muito Legal!\n",
      "[1, 2, 3]\n",
      "{'nome': 'Pedro', 'Idade': 22}\n",
      "None\n"
     ]
    }
   ],
   "source": [
    "print(True) #sempre T maisculo\n",
    "print(False) #sempre F Maisculo.\n",
    "print(1.2 + 1) # tipo float e tipo int(inteiro)\n",
    "print('Aqui eu falo na minha lingua ou qualquer outra')\n",
    "print(\"Também funciona com aspas duplas.\") #aspas duplas \"\"\n",
    "print('Você e ' + 3 * 'muito ' + 'Legal!') # o + é uma concatenação, no caso + 3 x muito, muito muito muito \n",
    "# print('3 + '3') #nesse caso vai dar problema, pois usou o numero inteiro + concatenacao, no caso ele nao mistura int com str. >ambiguidade\n",
    "print([1, 2, 3]) #lista: estrutura que tem indices\n",
    "print({'nome': 'Pedro', 'Idade': 22}) #Dicionario: estrutura que tem chave e valor, sempre separa por \",\"\n",
    "print(None) #ausencia de valor."
   ]
  },
  {
   "cell_type": "markdown",
   "metadata": {},
   "source": [
    "# Variáveis "
   ]
  },
  {
   "cell_type": "code",
   "execution_count": 14,
   "metadata": {},
   "outputs": [
    {
     "name": "stdout",
     "output_type": "stream",
     "text": [
      "15.2\n",
      "agora sou uma string!\n",
      "sou um rato\n"
     ]
    }
   ],
   "source": [
    "a = 10 # simbolo  =   Está fazendo uma Atribuição. ou seja o: a vale 10 ou seja é um operador de atribuiçao.\n",
    "b = 5.2 #  =  operador de atribuiçao.\n",
    "\n",
    "#no caso o que vai atribuir o 10, a = 10: a representa uma identificador, = atribuicao, 10 valor (int), valor 5.2 float\n",
    "\n",
    "\n",
    "\n",
    "#     int+ float\n",
    "print (a + b) #python esta ciente se pode fazer ou nao.\n",
    "\n",
    "# NO Python (dinamicamente tipada) ou seja, voce falou que no a, sempre vai ter numeros inteiros?r: nao.\n",
    "# Em outras linguagens tem tipos estaticos, ou seja, essa variavel so aceita numeros inteiros, essa variavel so aceita bulians ou so aceita lista etc.\n",
    "# Tem como Amarrar isso, ou seja ele nao permite colocar outra coisa na variavel, pois ela é estatica, está definida.\n",
    "# ja em python, se consegue alterar, mesmo que ela for inteira, da para usar com outras.\n",
    "# EX: a + b = 15.2\n",
    "# Ou seja no python se nao precisa de definir que tipo de variavel é, bulians, inteiros, lista etc.\n",
    "\n",
    "a = 'agora sou uma string!' #da para fazer uma nova string com o A\n",
    "print(a)\n",
    "a\n",
    "b\n",
    "\n",
    "#   string + float.\n",
    "# print (a + b) #aqui nao funcionará, pois gerou uma ambiguidade, ele nao consegue somar a string + float. O Python nao decide por vc, tem que falar o que vc quer, uma concatenacao ou uma soma.\n",
    "# python é strong typed, pois ele reconhece o que se quer fazer.\n",
    "\n",
    "b = 'sou um rato' #testando tb com o b\n",
    "print(b)\n",
    "\n",
    "# print (a + b)"
   ]
  },
  {
   "cell_type": "markdown",
   "metadata": {},
   "source": [
    "# Comentários"
   ]
  },
  {
   "cell_type": "code",
   "execution_count": 17,
   "metadata": {},
   "outputs": [
    {
     "name": "stdout",
     "output_type": "stream",
     "text": [
      "994.25\n",
      "Agora sim o fim de verdade\n"
     ]
    }
   ],
   "source": [
    "# Minhas variáveis\n",
    "salario = 3450.45\n",
    "despesas = 2456.2\n",
    "\n",
    "\n",
    "# aqui da para comentar dessa forma, com \"\"\"\n",
    "\"\"\"\n",
    "A ideia é calcular o \n",
    "quanto vai sobrar \n",
    "no final do mês               \n",
    "\"\"\"\n",
    "print(salario - despesas) #aqui é uma Operacao aritmética\n",
    "\n",
    "# print('fim')\n",
    "print('Agora sim o fim de verdade')\n",
    "\n",
    "\n",
    "# É bom comentar em cima do trecho que vc quer falar. Igual acima.\n",
    "# da para comentar do lado também.\n",
    "# nao por siglas para comentar aquele nome, o bom e ter bons nomes para ficar mais explicitos.\n",
    "# Priorizar o codigo, deixar mais claro, e comentar o que realmente deve ser comentado. "
   ]
  },
  {
   "cell_type": "markdown",
   "metadata": {},
   "source": [
    "# Operadores aritméticos"
   ]
  },
  {
   "cell_type": "code",
   "execution_count": 28,
   "metadata": {},
   "outputs": [
    {
     "name": "stdout",
     "output_type": "stream",
     "text": [
      "5\n",
      "-3\n",
      "10.6\n",
      "3.1333333333333333\n",
      "3.0\n",
      "1\n",
      "256\n",
      "24\n"
     ]
    }
   ],
   "source": [
    "print(2 + 3) #soma = 5\n",
    "print(4 - 7) #subitracao = 3\n",
    "print(2 * 5.3) #multiplicacao = 10.6 Float) \n",
    "print(9.4 / 3) #divisao = 3.13333333 chamado de  dízima periódica\n",
    "print(9.4 // 3) # usando // obrigatoriamente da um numero inteiro, no caso 3.0 deu resultado numero inteiro, porém é float, por causa do .\n",
    "print(10 % 3) #aqui é 10 modulo é o resto da divisao. EX: 3 divide por 10 vai dar 3, vai sobrar o 1 = resultado.\n",
    "\n",
    "#                                                 1/2     3     4       5         6          7      8\n",
    "# 2 ** 5, 2 x 2 x 2 x 2 x 2 x 2 x 2 x 2 = entao, 2x2 = 4 x 2 = 8 x 2 = 16 x 2 = 32 x 2 = 64 x 2 = 128 x 2 = 256\n",
    "print(2 ** 8) # 2 elevado a 8\n",
    "\n",
    "\"\"\"\"Calculando o valor das potências\n",
    "3 ** 2 = 3 . 3 = 9\n",
    "10**3 = 10 . 10 . 10 = 1000\n",
    "5**3 = 5 . 5 . 5 = 125\n",
    "4**5 = 4 . 4 . 4 . 4 . 4 = 1024\n",
    "\"\"\"\n",
    "#                                                   no caso o operador é o + ou soma            um  +  outro Operando.\n",
    "# Operadores conhecidos como BINARIOS, ou seja quer dizer de dois numeros, ou seja 2 operando EX: 2 + 2\n",
    "# OU seja, a SOMA + (Operador) precisa de dois operando, para fazer a operaçao aritmética de soma. TODOS ACIMA são binarios.\n",
    "\n",
    "\n",
    "a = 12\n",
    "b = a\n",
    "print (a + b)\n"
   ]
  },
  {
   "cell_type": "code",
   "execution_count": 9,
   "metadata": {},
   "outputs": [
    {
     "data": {
      "text/plain": [
       "0.7118491790925822"
      ]
     },
     "execution_count": 9,
     "metadata": {},
     "output_type": "execute_result"
    }
   ],
   "source": [
    "# Minhas variáveis\n",
    "salario = 3450.45\n",
    "despesas = 2456.2\n",
    "\n",
    "#desafio de saber quantos % do salario sobrará em porcentagem.\n",
    "\n",
    "#resposta do desafio\n",
    "percentual_comprometido = despesas / salario * 100 #para saber o percentual do salario esta comprometido com as despesas.\n",
    "percentual_comprometido #71.18491790925822\n",
    "2456.2 / 3450.45"
   ]
  },
  {
   "cell_type": "markdown",
   "metadata": {},
   "source": [
    "# Operadores Relacionais"
   ]
  },
  {
   "cell_type": "code",
   "execution_count": null,
   "metadata": {},
   "outputs": [],
   "source": [
    "print(3 > 4)    # 3 é maior que 4? false\n",
    "print(4 >= 3)   # 4 é maior ou igual(=) a 3? True\n",
    "print(1 < 2)    # 1 é menor que 2 = true\n",
    "print(3 <= 1)   # 3 é menor ou igual a 1(=)? False\n",
    "print(3 != 2)   # 3 é diferente de 2? Diferente (!=) True\n",
    "print(3 == 3)   # == é usado para mostrar se os dois sao iguais. True\n",
    "print(3 == '2') # 3 é inteiro e o 2 é string, entao é false (no java script é diferente, ele é verdadeiro)\n",
    "\n"
   ]
  },
  {
   "cell_type": "markdown",
   "metadata": {},
   "source": [
    "# Operadores de Atribuição"
   ]
  },
  {
   "cell_type": "code",
   "execution_count": 32,
   "metadata": {},
   "outputs": [
    {
     "name": "stdout",
     "output_type": "stream",
     "text": [
      "10\n",
      "15\n",
      "12\n",
      "24\n",
      "6.0\n",
      "2.0\n",
      "256.0\n",
      "1.0\n"
     ]
    }
   ],
   "source": [
    "a = 3\n",
    "a = a + 7  #aqui se atribui a que é 3 + o 7 fazendo uma soma\n",
    "print(a) \n",
    "\n",
    "#a = 5   #aqui está atribuindo um valor para o A novamente.\n",
    "a += 5  #aqui está acrescentando  ou adicionando em cima do a que era 10, exemplo 3+7+5 (a = a + 5)\n",
    "print(a)\n",
    "\n",
    "a -= 3   #subitrai 15- 3\n",
    "print(a)\n",
    "\n",
    "a *= 2   #multiplica 12 x 2\n",
    "print(a)\n",
    "\n",
    "a /= 4   #divide 24 / 4 = 6.0\n",
    "print(a)\n",
    "  \n",
    "a %= 4     #modular (tenho 6 de cima) divide por 4,  = 1, o resto da divisao que sobrar é 2, é o resultado.\n",
    "print(a)  \n",
    "\n",
    "a **= 8   #espoenciacão 256\n",
    "print(a)\n",
    "\n",
    "a //= 252 #divisao com numero inteiro, o A que era 256 / por 256 = 1, menos que fosse 255 daria 1, mesmo que der numero quebrado.\n",
    "print(a)"
   ]
  },
  {
   "cell_type": "markdown",
   "metadata": {},
   "source": [
    "# Operadores Lógicos "
   ]
  },
  {
   "cell_type": "code",
   "execution_count": 1,
   "metadata": {},
   "outputs": [
    {
     "data": {
      "text/plain": [
       "1"
      ]
     },
     "execution_count": 1,
     "metadata": {},
     "output_type": "execute_result"
    }
   ],
   "source": [
    "True or False\n",
    "7 != 3 and 2 > 3 #booleanos\n",
    "\n",
    "# Tabela verdade do And\n",
    "True and True   #verdadeiro  (Todos BInarios, Binarios quer dizer quando á 1 + 2 ou true and true)\n",
    "True and False  # False       AND (Opera) em dois operandos (True  false)\n",
    "False and True  # False\n",
    "False and False # False \n",
    "True and True and True and False and True  # aqui sempre da false, pois basta so ter 1 false.\n",
    "#\n",
    "\n",
    "\n",
    "# Tabela verdade do OR\n",
    "True or True\n",
    "True or False\n",
    "False or True\n",
    "False or False or False or False or False or True\n",
    "\n",
    "# Tabela de verdade do Xor\n",
    "True != True   #True é diferente de true? False (FALSO)\n",
    "True != False  #True é diferente de false? True (SIM)\n",
    "False != True  #false é diferente de true? True (SIM)\n",
    "False != False #True é diferente de true? False (FALSO)\n",
    "\n",
    "# Operador de negação (unário)\n",
    "not True #nao verdadeiro  = False (se nao é verdade é falso)\n",
    "not False #nao false = TRUE (se nao é falso é verdadeiro)\n",
    "\n",
    "not 0        # nao é 0 = verdade   já que o 0 é DENOMINADO COmo FALSO EXEMPLO: not (0)false = verdadeiro\n",
    "not 1        # Nao é 1 = falso     Já que o 1 ou qualquer numero é false EXEMPLO: not (1)True = False \n",
    "not -1       # SE NAO é verdade é igual a False, = not é verdade(-1 é atribuido como verdade) = false \n",
    "not not -1   #nao é nao é verdade = true (uma negacao dupla) Entao nao é nao é verdade = true\n",
    "not True     #nao é verdade = falso <\n",
    "not not True #nao é nao é verdade = true  da mesma forma com not not -1 = true, negacao dupla\n",
    "\n",
    "\n",
    "# Cuidado!\n",
    "True & False\n",
    "False | True\n",
    "True ^ False\n",
    "\n",
    "# AND Bit a bit\n",
    "# 3 = 11\n",
    "# 2 = 10\n",
    "# _ = 10\n",
    "3 & 2 # deu o 2\n",
    "\n",
    "# OR Bit a Bit\n",
    "# 3 = 11\n",
    "# 2 = 10\n",
    "# _ = 11 \n",
    "3 | 2   # deu 3\n",
    " \n",
    "# XOR Bit A BIt\n",
    "# 3 = 11\n",
    "# 2 = 10\n",
    "# _ = 01 \n",
    "3 ^ 2\n",
    "\n",
    "# Um pouco de Realidade\n",
    "saldo = 1000\n",
    "salario = 4000\n",
    "despesas = 2967\n",
    "\n",
    "saldo_positivos = saldo > 0  # saldo é maior que 0\n",
    "despesas_controladas = salario - despesas >= 0.2 * salario #salario menos despesas maior ou igual a 20% do salario?\n",
    "meta\n"
   ]
  },
  {
   "cell_type": "code",
   "execution_count": 8,
   "metadata": {},
   "outputs": [
    {
     "name": "stdout",
     "output_type": "stream",
     "text": [
      "Tv50=False Tv32=False Sorvete=False Saudável=True\n"
     ]
    },
    {
     "data": {
      "text/plain": [
       "'\\nUm pouco do que é a funcionalidade .format\\n\"{},   {} =  {}\".format(1, False, \\'resultado\\')\\n\"1   false resultado.\\n\\naqui funciona diferente, no caso:\\n\"{0}, {1} = {2}\".format(1, False, \\'resultado\\') \\nEntao: 1 = 0\\n      False = 1          é um PADRAO! de numeros 0 equivale ao primeiro caractere.\\n      Resultado = 2\\n      \\n      1 false = resultado.\\n      \\n      Também trocando de numeros para se observar melhor.\\n      \"{2}, {0} = {1}\".format(1, False, \\'resultado\\') \\n      \\n      Resultado = false 1    \\n      \\n      OU seja, da para usar sem numero, seguindo a ordem natural, ou com numeros que se pode mexer.\\n\\n'"
      ]
     },
     "execution_count": 8,
     "metadata": {},
     "output_type": "execute_result"
    }
   ],
   "source": [
    "# Desafio Operadores lógicos\n",
    "\n",
    "# Os Trabalhos\n",
    "\n",
    "trabalho_terca = False\n",
    "trabalho_quinta = False\n",
    "\n",
    "\"\"\"\n",
    "- Confirmando os 2: tv 50` + sorvete\n",
    "- Confirmando apenas 1: Tv 32` + sorvete\n",
    "- Nenhum Confirmado: Fica em casa\n",
    "\"\"\"\n",
    "\n",
    "tv_50 = trabalho_terca and trabalho_quinta # = false\n",
    "tv_32 = trabalho_terca != trabalho_quinta #= xor False\n",
    "sorvete = trabalho_terca or trabalho_quinta #or false\n",
    "mais_saudavel = not sorvete #sem sorvete. \n",
    "\n",
    "print(\"Tv50={} Tv32={} Sorvete={} Saudável={}\"\n",
    "      .format(tv_50, tv_32, sorvete, mais_saudavel))\n",
    "\n",
    "\n",
    "\n",
    "\"\"\"\n",
    "Um pouco do que é a funcionalidade .format\n",
    "\"{},   {} =  {}\".format(1, False, 'resultado')\n",
    "\"1   false resultado.\n",
    "\n",
    "aqui funciona diferente, no caso:\n",
    "\"{0}, {1} = {2}\".format(1, False, 'resultado') \n",
    "Entao: 1 = 0\n",
    "      False = 1          é um PADRAO! de numeros 0 equivale ao primeiro caractere.\n",
    "      Resultado = 2\n",
    "      \n",
    "      1 false = resultado.\n",
    "      \n",
    "      Também trocando de numeros para se observar melhor.\n",
    "      \"{2}, {0} = {1}\".format(1, False, 'resultado') \n",
    "      \n",
    "      Resultado = false 1    \n",
    "      \n",
    "      OU seja, da para usar sem numero, seguindo a ordem natural, ou com numeros que se pode mexer.\n",
    "\n",
    "\"\"\"\n"
   ]
  },
  {
   "cell_type": "code",
   "execution_count": 9,
   "metadata": {},
   "outputs": [
    {
     "data": {
      "text/plain": [
       "'resultado, 1 = False'"
      ]
     },
     "execution_count": 9,
     "metadata": {},
     "output_type": "execute_result"
    }
   ],
   "source": [
    " \"{2}, {0} = {1}\".format(1, False, 'resultado')"
   ]
  },
  {
   "cell_type": "markdown",
   "metadata": {},
   "source": [
    "# Operadores Unários"
   ]
  },
  {
   "cell_type": "code",
   "execution_count": 24,
   "metadata": {},
   "outputs": [
    {
     "data": {
      "text/plain": [
       "4"
      ]
     },
     "execution_count": 24,
     "metadata": {},
     "output_type": "execute_result"
    }
   ],
   "source": [
    "a = 3\n",
    "# a++  nao tem em python = no Javascript funciona, no caso é o a = 3 a++, = 4.\n",
    "# a+= #aqui funciona, é uma funcão adicao, no caso a + 1 = 4\n",
    "# a\n",
    "# a-- nao tem em python = javascript é mesma coisa, 3 --a = 2, seguindo, a = 2 --a = 1\n",
    "++a #aqui nao ta incrementando nada.\n",
    "++a\n",
    "\n",
    "# #aqui ele vai deixar o numero 3 negativo -3.\n",
    "# (claro que nao foi atribuido, entao nao funcionará, se fosse fazer uma atribuicão: a = -a) ai ele ficaria realmente negativo\n",
    "-a \n",
    "\n",
    "#nao vai fazer diferença nenhuma. Pois o numero ja está atribuido como positivo. a = 3\n",
    "#e mesmo que fosse atribuido como -3 nao iria fazer nenhuma diferença.\n",
    "+a \n",
    "\n",
    "#OP.Logicos:\n",
    "not 0         #sabendo que o 0 é falso = True\n",
    "not 1       #sabendo que qualquer outro numero é true = falso\n",
    "not -2      #sabendo que qualquer outro numero é true = falso\n",
    "not False   # = True, false igual 0 ou ao contrario. \n",
    "\n",
    "#usando duas vezes o operador unario, (not) em cima de um valor.\n",
    "#ou seja, not true = falso (resultado + not) = not falso = True. Negacao dupla.\n",
    " \n",
    "not not True \n"
   ]
  },
  {
   "cell_type": "markdown",
   "metadata": {},
   "source": [
    "# Operadores Ternarios"
   ]
  },
  {
   "cell_type": "code",
   "execution_count": null,
   "metadata": {},
   "outputs": [],
   "source": [
    "esta_chovendo = True     #EXPRESSAO       \n",
    "                                    #FALSE]    [True] qndo esta mais proximo da expressao no caso chovendo.\n",
    "print('hoje estou com as roupas ' + ('secas.', 'molhadas.')[esta_chovendo]) # se esta_chuvendo for verdadeiro(true) fica mais proxima do lado dela, no caso molhadas, e a mais longe é a SECAS.\n",
    "print('hoje estou com as roupas ' + ('molhadas.' if esta_chovendo else 'secas.')) #if se esta chovendo, else (caso contrario)\n",
    "\n",
    "                   # os 3 Ternários (secas, molhadas e a espressao esta_chovendo)        \n",
    "\n",
    "#EXEMPLO esta_chovendo é verdadeiro = hoje estou com as roupas molhadas porque está TRUE\n",
    "#EXEMPLO esta_chovendo é falso entao = hoje estou com as roupas secas (false), porque ELSE é \"caso contrario\", se nao é True entao é o False, no caso atribuido pelo ELSE.\n"
   ]
  },
  {
   "cell_type": "markdown",
   "metadata": {},
   "source": [
    "# Mais Operadores"
   ]
  },
  {
   "cell_type": "code",
   "execution_count": 5,
   "metadata": {},
   "outputs": [
    {
     "data": {
      "text/plain": [
       "False"
      ]
     },
     "execution_count": 5,
     "metadata": {},
     "output_type": "execute_result"
    }
   ],
   "source": [
    "# Operador de Membro\n",
    "lista = [1, 2, 3, 'ana', 'carla']\n",
    "2 in lista  #está\n",
    "'ana' not in lista #falso, porque ela esta na lista\n",
    "\n",
    "#operador de identidade\n",
    "x = 3\n",
    "y = x\n",
    "z = 3\n",
    "x is y  # sim porque y foi atribuido pelo x. TRUE\n",
    "y is z  # sim porque eles tem os mesmo valores TRUE\n",
    "x is not z # falso, porque x nao é z, quer dizer que é mentira, pois os numeros sao iguais também. (FALSE)\n",
    "\n",
    "\n",
    "lista_a = [1, 2, 3]\n",
    "lista_b = lista_a\n",
    "lista_c = [1, 2, 3]\n",
    "\n",
    "lista_a is lista_b #Sim, pois recebeu a lista a (true)\n",
    "lista_b is lista_c  #porque ela fica separada da lista a e b (false)\n",
    "lista_a is lista_c  #porque ela fica separada da lista a e b (falso)\n",
    "lista_a is not lista_c #sim, pois a lista a é diferente da lista C, como citado a cima (TRUE)\n",
    "\n",
    "k = 2\n",
    "l = 2\n",
    "p = 2\n",
    "\n",
    "k   p\n",
    "\n"
   ]
  },
  {
   "cell_type": "markdown",
   "metadata": {},
   "source": [
    "# Builtins"
   ]
  },
  {
   "cell_type": "code",
   "execution_count": 26,
   "metadata": {},
   "outputs": [
    {
     "name": "stdout",
     "output_type": "stream",
     "text": [
      "3.3333333333333335\n"
     ]
    },
    {
     "data": {
      "text/plain": [
       "['In',\n",
       " 'Out',\n",
       " '_',\n",
       " '_1',\n",
       " '_13',\n",
       " '_15',\n",
       " '_18',\n",
       " '_2',\n",
       " '_24',\n",
       " '_25',\n",
       " '_8',\n",
       " '_9',\n",
       " '__',\n",
       " '___',\n",
       " '__builtin__',\n",
       " '__builtins__',\n",
       " '__doc__',\n",
       " '__loader__',\n",
       " '__name__',\n",
       " '__package__',\n",
       " '__spec__',\n",
       " '_dh',\n",
       " '_i',\n",
       " '_i1',\n",
       " '_i10',\n",
       " '_i11',\n",
       " '_i12',\n",
       " '_i13',\n",
       " '_i14',\n",
       " '_i15',\n",
       " '_i16',\n",
       " '_i17',\n",
       " '_i18',\n",
       " '_i19',\n",
       " '_i2',\n",
       " '_i20',\n",
       " '_i21',\n",
       " '_i22',\n",
       " '_i23',\n",
       " '_i24',\n",
       " '_i25',\n",
       " '_i26',\n",
       " '_i3',\n",
       " '_i4',\n",
       " '_i5',\n",
       " '_i6',\n",
       " '_i7',\n",
       " '_i8',\n",
       " '_i9',\n",
       " '_ih',\n",
       " '_ii',\n",
       " '_iii',\n",
       " '_oh',\n",
       " 'a',\n",
       " 'exit',\n",
       " 'get_ipython',\n",
       " 'nome',\n",
       " 'quit']"
      ]
     },
     "execution_count": 26,
     "metadata": {},
     "output_type": "execute_result"
    }
   ],
   "source": [
    "# type ()\n",
    "type(1)\n",
    "__builtins__.type('Fala Galera!')\n",
    "__builtins__.print(10 / 3)\n",
    "\n",
    "# __builtins__.help(__bioltins__.dir)\n",
    "# dir()\n",
    "\n",
    "#comando: _ <--- pega sempre a ultima operação\n",
    "\n",
    "1 + 2\n",
    "_ * 3  # _ sempre que apertar vai multiplicar, ou fazer o comando.\n",
    "\n",
    "# a = 7\n",
    "# import math\n",
    "dir(__builtins__)\n",
    "\n",
    "nome = 'joão da silva'\n",
    "type(nome)\n",
    "__builtin__.len(nome)\n",
    "dir()"
   ]
  },
  {
   "cell_type": "markdown",
   "metadata": {},
   "source": [
    "# Conversão de Tipos"
   ]
  },
  {
   "cell_type": "code",
   "execution_count": 1,
   "metadata": {},
   "outputs": [
    {
     "name": "stdout",
     "output_type": "stream",
     "text": [
      "<class 'int'>\n",
      "<class 'str'>\n",
      "5\n",
      "23\n"
     ]
    },
    {
     "data": {
      "text/plain": [
       "5.4"
      ]
     },
     "execution_count": 1,
     "metadata": {},
     "output_type": "execute_result"
    }
   ],
   "source": [
    "2 + 3\n",
    "'2' + '3' # fez uma concatenação, ou sejá é uma strings nao é uma soma, resultado é 23\n",
    "# 2 + '3' #ele nao faz, nao tenta adivinhar.\n",
    "# print (2 + '3'\n",
    "\n",
    "a = 2\n",
    "b = '3'\n",
    "\n",
    "print(type(a)) #tipo inteiro (INT)\n",
    "print(type(b)) #tipo string (STR)\n",
    "\n",
    "print(a + int(b)) #assim o a = inteiro e o b string, fazendo uma conversao com o +int(b) no caso vc mandou ele somar.\n",
    "print(str(a) + b) #aqui é ao contrario, quer concatenar, o a INT foi convertido para STR, assim consegue fazer concatenacao\n",
    "\n",
    "\n",
    "type(str(a))  #FEZ uma conversao, o type serve para ver, se é string, inteiro etc.\n",
    "\n",
    "# print(2 + int('3.4')) #nao faz conversao porque é um inteiro valido (aqui nao há conversao com int)\n",
    "# print(2 + float('3.4')) #python nao tenta adivinhar o que vc quer transformar, string tem que ter algo para ser convertido. (aqui consegui)\n",
    "\n",
    "c = 2\n",
    "d = '3.4'\n",
    "\n",
    "a + float(d)"
   ]
  },
  {
   "cell_type": "markdown",
   "metadata": {},
   "source": [
    "#  Coerçao Automática"
   ]
  },
  {
   "cell_type": "code",
   "execution_count": null,
   "metadata": {},
   "outputs": [],
   "source": [
    "10 / 2   #deu quebrado 5.0 float\n",
    "type(10 / 2) #type mostra tipo da operaçao, no caso float\n",
    "10 / 3  #(deu quebrado 3.333333)\n",
    "10 // 3  # duas barras, gera um inteiro\n",
    "type (10 // 3)  #depende da operacao que faz o numero pode sair inteiro (int) ou quebrado (float)\n",
    "10 // 3.3      #(float) aqui deu float\n",
    "type(10 // 3.3)\n",
    "10 / 2.5  #(deu um resultado em float)\n",
    "2 + True      # true assume como 1, nao há ambiguidade, entao ele corrige\n",
    "2 + False     # false = 0, entao fica 2\n",
    "type(1 + 2)   #Resultado é INT\n",
    "type(1 + 2.5) #resultado é Float"
   ]
  },
  {
   "cell_type": "markdown",
   "metadata": {},
   "source": [
    "# Tipos Numéricos "
   ]
  },
  {
   "cell_type": "code",
   "execution_count": null,
   "metadata": {},
   "outputs": [],
   "source": [
    "dir(int)\n",
    "dir(float)\n",
    "\n",
    "\n",
    "a = 5\n",
    "b = 2.5  # Toda vez que um numero inteiro no caso 5, opera com float no caso 2.5, sempre sera float\n",
    "\n",
    "a / b\n",
    "a + b\n",
    "a * b\n",
    "\n",
    "type(a)\n",
    "type(b)\n",
    "type(a - b)\n",
    "\n",
    "b.is_integer() #ou seja, b é um inteiro?\n",
    "5.0.is_integer() #é um valor inteiro, mas o conteudo representa um conteudo sem casa decimais.\n",
    "\n",
    "dir(int)\n",
    "int.__add__(2, 3) #mesmo resultado os dois\n",
    "2 + 3\n",
    "\n",
    "\n",
    "(-2).__abs__()  # numero inteiro\n",
    "abs(-2)         # os dois tras um numero absoluto, no caso se for negativo ele tras ele positivo, e se for positivo ele continua positivo.\n",
    "# type(-2)\n",
    "\n",
    "(-3.6).__abs__() #o mesmo para float, o abs tras numero absoluto, sempre positivo.\n",
    "abs(-3.6)\n",
    "# dir(float)"
   ]
  },
  {
   "cell_type": "code",
   "execution_count": 4,
   "metadata": {},
   "outputs": [
    {
     "name": "stdout",
     "output_type": "stream",
     "text": [
      "0.14\n"
     ]
    },
    {
     "data": {
      "text/plain": [
       "Decimal('3.3')"
      ]
     },
     "execution_count": 4,
     "metadata": {},
     "output_type": "execute_result"
    }
   ],
   "source": [
    "# 1.1 + 2.2\n",
    "from decimal import Decimal, getcontext #aqui está importando o Decimal e o getcontext do decimal.\n",
    "\n",
    "getcontext().prec = 4 #no caso se vai dar uma precisão de 4 casas decimais, Ex: 0.1429\n",
    "Decimal(1) / Decimal(7)\n",
    "Decimal.max(Decimal(1), Decimal(7)) #este comando é para dizer qual é o maior numero/valor, no caso o 7\n",
    "# dir(Decimal)\n",
    "\n",
    "1.1 + 2.2\n",
    "getcontext().prec = 2 # O prec é de precisao 2, no caso, 2 casas decimais. 3.3\n",
    "Decimal(1.1) + Decimal(2.2) #assim vai dar um numero exato, diferente do 1.1 + 2.2 Operacao padrao\n",
    "\n",
    "# dir(decimal) vai dar erro, porque ele nao foi importado, so o com Letra maiuscula, no caso Decimal. Teria que da um import decimal"
   ]
  },
  {
   "cell_type": "markdown",
   "metadata": {},
   "source": [
    "# Tipo String "
   ]
  },
  {
   "cell_type": "code",
   "execution_count": 3,
   "metadata": {},
   "outputs": [
    {
     "name": "stdout",
     "output_type": "stream",
     "text": [
      "Texto com múltiplas\n",
      "\t...linhas\n",
      "Texto com múltiplas \n",
      "    ...linhas\n",
      "Também é possivel\n",
      "... com 3 aspas simples\n"
     ]
    },
    {
     "data": {
      "text/plain": [
       "'p'"
      ]
     },
     "execution_count": 3,
     "metadata": {},
     "output_type": "execute_result"
    }
   ],
   "source": [
    "# dir(str)\n",
    "nome = 'Saulo Pedro' #cada letra representa um index, no caso 0,1,2,3,4,5....\n",
    "nome\n",
    "nome[0]\n",
    "# nome[0] = 'p' #a string nao suporta atribuiçao, nao da para mudar o valor da string, somente da variavel, no caso o conteudo.\n",
    "\n",
    "# 'marca d'água' vai dar um erro, por causa da ' no meio do d'agua, podendo fazer de outra maneira a baixo\n",
    "\"Dias D'Avila\" == 'Dias D\\'Avila' #Usando aspas duplas ou \\ antes do ', pode se fazer usando aspas duplas, com \\ EX: \"Teste \\\" funciona\" \n",
    "texto = 'Texto entre apostrófos pode ter \"aspas\"'\n",
    "texto\n",
    "\n",
    "doc = \"\"\"Texto com múltiplas \n",
    "    ...linhas\"\"\" #com aspas tripla \"\"\" da para quebrar linha, ou usando \\n, usando tab ele joga mais >>>\n",
    "doc\n",
    "print('Texto com múltiplas\\n\\t...linhas')  #usando o \\N no final para quebrar linha, também usando o \\t seria igual usar o tab\n",
    "print(doc)\n",
    "\n",
    "doc2 = '''Também é possivel\n",
    "... com 3 aspas simples'''\n",
    "doc2\n",
    "print(doc2)\n",
    "\n",
    "nome = nome = 'pedro'\n",
    "nome [0]\n"
   ]
  },
  {
   "cell_type": "code",
   "execution_count": 1,
   "metadata": {},
   "outputs": [
    {
     "data": {
      "text/plain": [
       "'Ana '"
      ]
     },
     "execution_count": 1,
     "metadata": {},
     "output_type": "execute_result"
    }
   ],
   "source": [
    "nome = 'Ana Paula'  #indice, no nome conta do 0,1,2... o espaço também conta.\n",
    "nome[0]#012345678                                                                                  \n",
    "nome[6]                                                                              #012345678\n",
    "nome[-3] #quando for negativo, ele puxa da direita para esquerda, no caso vai ser o u Ana Paula (-3-2-1)            #0123 \n",
    "nome[4:] #ele acessa depois de uma certa parte, \"range\", no caso Ana Paula vai pegar a quarta letra depois, no caso (Ana Paula\n",
    "nome[-5:] #pega as 5 primeiras letras do lado esquerdo para o direito.\n",
    "nome[:3]  #pega as 3 primeiras, no caso nao vai pegar o espaço. Ana 012(3) o três nao conta, sempre o ultimo nao conta.\n",
    "nome[:-5] #aqui pega até o 5 do lado esquerdo para o direito, igual o modelo 4:, depois do 5 numero ele pega a palavra, no caso ANA\n",
    "\n",
    "nome[2:5] #Aqui, pega a 2 letra, no caso Ana Paula, pega o Segundo A, e p P, a ultima letra nao conta. Entao: 0 1 2 3 4 = 5 numeros\n",
    "\n",
    "numeros = '1234567890'\n",
    "numeros\n",
    "numeros[::]\n",
    "numeros[::2]  # aqui vai pegar a cada duas casas, no caso 1 3 5 7 9. Ou seja, vai de 2 em 2.\n",
    "numeros[1::2] # Aqui começa com o indice 1, no caso, 2 4 6 8 0, 1:comeco, entao ele pula essa casa, e vai para os numeros pares\n",
    "numeros[::-1] # no caso da para fazer uma inversao, vai pegar o '0987654321'\n",
    "numeros[::-2] #aqui é 2 em 2, no caso 0 8 6 4 2, da direita para esquerda.\n",
    "\n",
    "nome[::-1] # na string da ana paula também da para fazer inversao, no caso aluaP anA"
   ]
  },
  {
   "cell_type": "code",
   "execution_count": 2,
   "metadata": {},
   "outputs": [
    {
     "ename": "NameError",
     "evalue": "name 'split' is not defined",
     "output_type": "error",
     "traceback": [
      "\u001b[1;31m---------------------------------------------------------------------------\u001b[0m",
      "\u001b[1;31mNameError\u001b[0m                                 Traceback (most recent call last)",
      "\u001b[1;32m<ipython-input-2-160eb77826ba>\u001b[0m in \u001b[0;36m<module>\u001b[1;34m\u001b[0m\n\u001b[0;32m     19\u001b[0m \u001b[1;31m# dir(str)\u001b[0m\u001b[1;33m\u001b[0m\u001b[1;33m\u001b[0m\u001b[1;33m\u001b[0m\u001b[0m\n\u001b[0;32m     20\u001b[0m \u001b[1;31m#help(str.center)\u001b[0m\u001b[1;33m\u001b[0m\u001b[1;33m\u001b[0m\u001b[1;33m\u001b[0m\u001b[0m\n\u001b[1;32m---> 21\u001b[1;33m \u001b[0mdir\u001b[0m\u001b[1;33m(\u001b[0m\u001b[0msplit\u001b[0m\u001b[1;33m)\u001b[0m\u001b[1;33m\u001b[0m\u001b[1;33m\u001b[0m\u001b[0m\n\u001b[0m",
      "\u001b[1;31mNameError\u001b[0m: name 'split' is not defined"
     ]
    }
   ],
   "source": [
    "frase = 'Python é uma linguagem excelente'\n",
    "\n",
    "'py' in frase #false porque letras maiusculas e minusculas sao consideradas. Entao quando há letras maiusculas é falso.\n",
    "'ing' in frase #true\n",
    "'py' not in frase #true, py nao esta na frase.\n",
    "len(frase) #tamanho da frase, contém 32 caracteres, len é usado para isso.\n",
    "frase.lower() #deixa tudo letra minuscula \n",
    "'py' in frase.lower() #assim da true, pois tudo esta em letra minuscula, mas a string frase nao é modificada.\n",
    "frase\n",
    "frase.upper() #deixa tudo letras maiusculas.\n",
    "'py' in frase.upper() #false, porque tem letras maiusculas, já que todas foram convertidas para tal.\n",
    "frase = frase.upper() #'PYTHON É UMA LINGUAGEM EXCELENTE' aqui consegue transformar a string em toda maiuscula ou minuscula usando lower\n",
    "frase\n",
    "\n",
    "frase.split() #aqui vai quebrar as frases, deixar espaços em brancos ['PYTHON', 'É', 'UMA', 'LINGUAGEM', 'EXCELENTE']\n",
    "frase.split('A') #ele quebrou a letra A ['PYTHON É UM', ' LINGU', 'GEM EXCELENTE']\n",
    "frase.split('E') #aqui quebra todas letras E também, ['PYTHON É UMA LINGUAG', 'M ', 'XC', 'L', 'NT', '']\n",
    "\n",
    "# dir(str)\n",
    "#help(str.center)"
   ]
  },
  {
   "cell_type": "markdown",
   "metadata": {},
   "source": [
    "## Continuando das strings(Magic method)"
   ]
  },
  {
   "cell_type": "markdown",
   "metadata": {},
   "source": [
    "#### Nao é utilizaveis, porém é para demonstrar."
   ]
  },
  {
   "cell_type": "markdown",
   "metadata": {},
   "source": [
    "#### www.python-course.eu/python3_magic_methods.php"
   ]
  },
  {
   "cell_type": "code",
   "execution_count": null,
   "metadata": {},
   "outputs": [],
   "source": [
    "a = '123'\n",
    "b = ' de Oliveira 4' \n",
    "a + b                        #Magic Method   (ou seja fazer de outras formas magicas   a   +   b\n",
    "a.__add__(b)                                     #sera mesma coisa que fazer a + b = '123 de Oliveira 4'\n",
    "str.__add__(a,b)                                 #sera mesma coisa que fazer a + b = '123 de Oliveira 4'\n",
    "\n",
    "dir(str)\n",
    "len(a) # vai dar 3, é qntas letras tem, no caso 123 = 3\n",
    "a.__len__() #da para fazer da mesma maneira usando magic method.\n",
    "\n",
    "'1' in a    # 1 está presente no a? True, está.\n",
    "a.__contains__('1') #também da para fazer desta forma, chega ao mesmo resultado (Magic method) "
   ]
  },
  {
   "cell_type": "markdown",
   "metadata": {},
   "source": [
    "# Lista "
   ]
  },
  {
   "cell_type": "code",
   "execution_count": null,
   "metadata": {},
   "outputs": [],
   "source": [
    "lista = []   #[] colchetes é usado para criar uma lista.\n",
    "type(lista)  #tipo para ter certeza q foi criado uma lista = []\n",
    "dir(lista)    # o dir é para ver as funcoes, sempre de todas.\n",
    "# help(lista) mutable sequence, pode adicionar e remover elementos da lista.\n",
    "len(lista)  # ver o tamanho da lista, pois ela está vazia = 0\n",
    "lista.append(1) #foi introduzido na lista o 1 append é uma funcão para adicionar novos elementos na lista.\n",
    "lista.append(5) #foi introduzido na lista o 5\n",
    "lista.append([1, 2, 3]) # da para adicionar outras listas na lista. = [1, 5, [1, 2, 3]]\n",
    "lista #Resultado [1, 5]\n",
    "len(lista)  #agora é 2, porque foi introdusido 1 e o 5\n",
    "\n",
    "nova_lista = [1, 5, 'Ana', 'Bia']  #da para trabalhar com string e numeros inteiros, bullians, float \n",
    "nova_lista   #nao é ideial pois nao trás uma organização para o trabalho, nao tras uma previsibilidade do que vai estar na lista.\n",
    "#Ex: tem uma lista de produtos, é interessante que so tenha produtos; nao tenha dentro desta lista, clientes, forma de pagamentos etc.\n",
    "#ex2: se quiser uma lista so com notas dos alunos, so o float, sem misturar com outras coisas.\n",
    "\n",
    "nova_lista.remove(5) #aqui removeu o 5 da lista = 1, ana, bia\n",
    "nova_lista\n",
    "nova_lista.reverse() #ou seja, reverter a lista = ['Bia', 'Ana', 1] (diferente do frase.upper, ele nao altera a string)\n",
    "nova_lista   #funcoes da lista altera o conteudo da lista, fazem mudanças. Já no caso das strings isso nao acontece.\n",
    "\n",
    "#sempre tabalhar com ordem, o ideal EX:\n",
    "#lista de produtos\n",
    "#lista de fornecedores\n",
    "#lista de clientes\n"
   ]
  },
  {
   "cell_type": "markdown",
   "metadata": {},
   "source": [
    "#### LISTA 2 "
   ]
  },
  {
   "cell_type": "code",
   "execution_count": null,
   "metadata": {},
   "outputs": [],
   "source": [
    "lista = [1, 5, 'Rebeca', 'Guilherme', 3.1415]  #também segue o fluxo de numeracoes, 0 1 2 3 4 (tem 5 elementos, mas o indice vai ate 4)\n",
    "lista.index('Guilherme') #aqui mostra em qual posicão está o Guilherme, no caso 3\n",
    "# lista.index(42)\n",
    "lista[2]   #está acessando o segundo indice, no caso Rebeca\n",
    "1 in lista  # o 1 está na lista? True\n",
    "'Rebeca' in lista  # Rebeca está na lista? T rue\n",
    "'Pedro' not in lista  # Pedro nao está na lista? True\n",
    "lista[0] # aqui é o indice 1 da lista\n",
    "lista[4] #aqui é o indice 3.1415 da lista\n",
    "# lista[5]\n",
    "lista[-1]   #Pega o ultimo elemento da lista, no caso 3.1415, direita para esquerda\n",
    "lista[-5]   #aqui consigo fazer com o -5, pois ele começa do -1, -2, -3, -4, -5, no caso o 1 (primeiro elemento da lista)"
   ]
  },
  {
   "cell_type": "code",
   "execution_count": 3,
   "metadata": {},
   "outputs": [
    {
     "data": {
      "text/plain": [
       "['Ana']"
      ]
     },
     "execution_count": 3,
     "metadata": {},
     "output_type": "execute_result"
    }
   ],
   "source": [
    "lista = ['Ana', 'Lia', 'Rui', 'Paulo', 'Dani']\n",
    "lista[1:3] #chama o 1 ao 3 do indice, no caso bia e rui, pois o 3 não sera exibido. Lembrando que começa pelo 0. \n",
    "lista[1:-1] #aqui vai do 1, até o - 1, sem incluir o -1, no caso ['Lia', 'Rui', 'Paulo']\n",
    "lista[1:] #aqui vai do primeiro elemento, para o ultimo ['Lia', 'Rui', 'Paulo', 'Dani']\n",
    "lista[:-1] #aqui do -1, sem incluir ele até a ana ['Ana', 'Lia', 'Rui', 'Paulo']\n",
    "lista[:] #mostra tudo na lista, mesma coisa que acessar a lista\n",
    "lista[::2]  #aqui vai pulando em 2 em 2, no caso ['Ana', 'Rui', 'Dani'], pegou o primeiro, pulou a Lia, e o paulo.\n",
    "lista[::-2] #aqui faz a mesma coisa que o de cima, pulando duas casas so que da direita para esquerda ['Dani', 'Rui', 'Ana']\n",
    "lista[::-1] #da para inverter a lista dessa forma também ['Dani', 'Paulo', 'Rui', 'Lia', 'Ana']\n",
    "del lista[2]  #aqui deleta um indice da lista, no caso Rui\n",
    "lista\n",
    "del lista[1:] #aqui deleta todos da lista após esse comando, no caso fica so a Ana que é o 0\n",
    "lista\n",
    "del lista[:-1] #aqui é o lado ao contrario do comando acima, no caso so fica o -1, que é a Dani\n",
    "lista"
   ]
  },
  {
   "cell_type": "markdown",
   "metadata": {},
   "source": [
    "# Tupla"
   ]
  },
  {
   "cell_type": "markdown",
   "metadata": {},
   "source": [
    "##### A diferença para lista é que nao consegue ser modificada, ou adicionar novos elementos, excluir, atribuir, alterar."
   ]
  },
  {
   "cell_type": "code",
   "execution_count": null,
   "metadata": {},
   "outputs": [],
   "source": [
    "tupla = tuple()\n",
    "tupla = () # ou seja, para criar um tupla usando par de parentes, o chamado Tuple em ingles.\n",
    "type(tupla)\n",
    "dir(tupla)\n",
    "#help(tuple) #immutable sequence, nao consegue ser modificada, ou adicionar novos elementos, excluir, atribuir, alterar.\n",
    "tupla = ('um') #CUIDADO - já que uma tuple, é feita com (), entao nao pode usar assim, pois ela fica um string(str) \n",
    "type(tupla)\n",
    "tupla = ('um',) #já nesse caso você coloca uma virgula no final ('um',) mesmo que nao tiver nada seguinte.\n",
    "type(tupla)\n",
    "tupla[0]  #aqui novamente se chama o index da tupla, no caso o 0 = um\n",
    "#tupla[0] = 'novo' nao da para alterar elemento da tupla\n",
    "cores = ('verde', 'amarelo', 'azul', 'branco') #nesse caso nao precisa por virgula no final.\n",
    "cores[0] # 0 = verde\n",
    "cores[-1] # -1 = branco ou seja, direita para esquerda\n",
    "cores[1:] #aqui é o 1 indice até o ultimo #('amarelo', 'azul', 'branco')\n",
    "\n",
    "cores.index('amarelo') #mostra qual indice está o amarelo, no caso o 1\n",
    "cores.count('azul')    #aqui mostra qntos elementos azul tem na tupla. (no caso agora so tem 1 azul)\n",
    "cores.count('Azul')    #aqui vai dar 0, pois tem a letra maiuscula, ou seja, nao existe.\n",
    "len(cores)             #tamanho da tupla, no caso 4 elementos. verde, amarelo, azul e o branco\n",
    "\n",
    "#tem uma semelhança com a lista, porém nao pode ser modificado\n",
    "# a sintase é diferente, lista [] e tupla () "
   ]
  },
  {
   "cell_type": "markdown",
   "metadata": {},
   "source": [
    "# Dicionários "
   ]
  },
  {
   "cell_type": "code",
   "execution_count": null,
   "metadata": {},
   "outputs": [],
   "source": [
    "#no dicionario em python usa um par de chaves{}, pode ter um dicionario dentro do outro, como lista também\n",
    "#          chave   valor          chave   valor   chave     valor, sao atribuidos com: os valores, e antes deles é a chave.\n",
    "pessoa = {'nome': 'Prof(a). Ana', 'idade': 38, 'cursos': ['inglês', 'Português']}\n",
    "type(pessoa) #tipo dict, ou seja dicionario\n",
    "dir(dict) #funcionalidades do dicionario\n",
    "len(pessoa)\n",
    "\n",
    "#também da para coloar a idade por exemplo sem as aspas, porém vai dar erro, mas da para definir, criando uma vareavel, igual abaixo.\n",
    "idade = 'blabla' # no caso ficaria assim, {'nome': 'Prof(a). Ana', 'blabla': 38, 'cursos': ['inglês', 'Português']}\n",
    "\n",
    "pessoa\n",
    "pessoa ['nome']\n",
    "pessoa ['idade']\n",
    "pessoa ['cursos']\n",
    "pessoa ['cursos'][1]  #aqui consegue acessar a parte de cursos da lista, no caso ingles e portugues, no caso 1 é o portugues.\n",
    "pessoa ['cursos'][0]  #mesma coisa, aqui é o 0 = inglês\n",
    "# pessoa['tags'] aqui da erro\n",
    "pessoa.keys() # ou seja, pegando as chaves desse dicionario. = dict_keys(['nome', 'idade', 'cursos'])\n",
    "pessoa.values() # pega os valores, no caso = dict_values(['Prof(a). Ana', 38, ['inglês', 'Português']])\n",
    "pessoa.items() #dict_items([('nome', 'Prof(a). Ana'), ('idade', 38), ('cursos', ['inglês', 'Português'])]) mostrando todos, chaves e valores.\n",
    "pessoa.get('idade') #aqui pega o valor da idade, no caso idade = 38 (no caso ele Lê o valor, diferente do pop)\n",
    "pessoa.get('tags')  #aqui nao vai dar erro, mas nao tem, entao nao acha.\n",
    "pessoa.get('tags', []) # se nao tiver nada ele volta [], caso a propriedade nao exista."
   ]
  },
  {
   "cell_type": "code",
   "execution_count": null,
   "metadata": {},
   "outputs": [],
   "source": [
    "pessoa = {'nome': 'Prof(a). Alberto', 'idade': 43, 'cursos': ['React', 'Python']}\n",
    "pessoa['idade'] = 44 #aqui está alterando o valor para 44\n",
    "pessoa['cursos'].append('Angular') #aqui adicionou o Angular, no caso append foi comando q somou para adicionar o angular.\n",
    "#{'nome': 'Prof(a). Alberto',\n",
    "# idade': 44,\n",
    "#'cursos': ['React', 'Python', 'Angular']}\n",
    "pessoa.pop('idade') #pop, ele lê o valor como tira do dicionario. = {'nome': 'Prof(a). Alberto', 'cursos': ['React', 'Python', 'Angular']}\n",
    "pessoa.update({'idade': 40, 'sexo': 'M'}) #aqui propriamente está dizendo update, ou seja, adicionei esses dois elementos para o dicionario.\n",
    "pessoa\n",
    "\n",
    "del pessoa['cursos'] # ou seja, da para escluir do mesmo jeito que o pop, os dois tem a mesma funcionalidade.\n",
    "pessoa\n",
    "pessoa.clear() #aqui quando chamou o comando clear, claramente ele apagou o dicionario.\n",
    "pessoa"
   ]
  },
  {
   "cell_type": "markdown",
   "metadata": {},
   "source": [
    "# Conjuntos ou Set(Ingles)"
   ]
  },
  {
   "cell_type": "code",
   "execution_count": 39,
   "metadata": {},
   "outputs": [
    {
     "name": "stdout",
     "output_type": "stream",
     "text": [
      "{'o', 'd', '3', 'c', 'r'}\n",
      "True True\n",
      "False True\n"
     ]
    },
    {
     "data": {
      "text/plain": [
       "{1, 3}"
      ]
     },
     "execution_count": 39,
     "metadata": {},
     "output_type": "execute_result"
    }
   ],
   "source": [
    "a = {1, 2, 3}\n",
    "type(a)\n",
    "# a[0] nao aceita index\n",
    "a = set('codddd3r') #passando a string apartir do set ele vai criar um set com cada uma das letras. Ex:{'3', 'c', 'd', 'o', 'r'} a ordem é aleatoria, ele também nao aceita repetiçao, no caso se tiver coddder, vai so pegar um D.\n",
    "print(a)\n",
    "print('3' in a, 4 not in a) #possivel usar operador de membro. 3 está presente no a = true .. 4 nao está no a = true\n",
    "print(3 in a, 4 not in a) #se transformar em um int o 3, ele consegue saber, pois cod3r é uma string e não um valor numerico.\n",
    "{1, 2, 3} == {3, 2, 1, 3} # aqui está perguntando se os elementos são iguais(true), no caso aqui mesmo que a ordem nao seja igual, e tenha repetiçao dos numeros, vai dar verdadeiro. (conjunto é dessa forma.).\n",
    "\n",
    "#operacoes\n",
    "c1 = {1, 2} #com comando update(1,2,3)\n",
    "c2 = {2, 3}\n",
    "c1.union(c2) # faz uma uniao, no caso {1, 2, 3}, claro que o 2 que é repetido ele vai ignorar, também nao vai mexer no conjunto 1 ou o 2, ele vai gerar outro conjunto.\n",
    "c1.intersection(c2) #aqui é os elementos que sao iguais, comuns aos 2 conjuntos, no caso o 2. Também nao mexe em nenhum dos dois conjuntos.\n",
    "c1.update(c2) #faz um update, atualizando, no caso faz funcionar as funcoes acima. = {1, 2, 3}\n",
    "c1\n",
    "c2 <= c1 # ou seja, c2 é menor ou igual a c1? False (pois no c2 apresenta o 3, ja no c1 nao)\n",
    "c1 >= c2 # ou seja, c1 é maior ou igual a c2? False (mesmo para aqui, c1 nao tem o 3, entao não é maior que c2)\n",
    "\n",
    "#essas sao duas formas para saber se um conjunto é subconjunto do outro.\n",
    "\n",
    "{1, 2, 3} - {2} #aqui vai fazer a diferença entre os conjuntos dos elementos, no caso: {1, 3}\n",
    "{1, 2, 3} - {2, 3} #aqui no caso da 1, essa é o diferente entre eles.\n",
    "c2 - c1 #nao é possivel realizar uma soma, no caso c2 + c1.\n",
    "c1 - c2 #desta forma da para diferenciar também, c1 e o c2, no caso será 1, pois c1 (1,2) e c2 (2,3)\n",
    "# c1(1, 2, 4)\n",
    "# c2(2, 3)\n",
    "#Ex  c2 - c1 : o que o c2 tem de diferente do c1? = 3\n",
    "#Ex  c1 - c2 : o que o c1 tem de diferente do c2? 1 e o 4\n",
    "\n",
    "c1 -= {2} #aqui é uma subtraçao, no caso vai tirar o 2 do c1, entao ficou {1, 3}\n",
    "c1"
   ]
  },
  {
   "cell_type": "markdown",
   "metadata": {},
   "source": [
    "# Interpolação "
   ]
  },
  {
   "cell_type": "code",
   "execution_count": 12,
   "metadata": {},
   "outputs": [
    {
     "name": "stdout",
     "output_type": "stream",
     "text": [
      "Nome: ana Idade: 30\n",
      "Nome: ana Idade: 30\n",
      "Nome: ana Idade: 30 257\n",
      "Nome: ana Idade: 30\n"
     ]
    }
   ],
   "source": [
    "from string import Template\n",
    "nome, idade = 'ana', 30    \n",
    "\n",
    "\n",
    "#da para criar mais de uma variavel na mesma linha\n",
    "\n",
    "# print('Nome: %s Idade: %d' % (nome, idade)) #  %s (é uma sequencia de caracteres para subistitiu elementos string) #d, subistitui valores inteiros. (uma padronização de varias linguagens)\n",
    "#     # Nome ana, idade 30, no caso subistituiu, nome e a idade da atribuiçao. string e o valor inteiro.\n",
    "    \n",
    "# print('Nome: %s Idade: %.2f' % (nome, idade))    # se quiser imprimir a parte quebrada do valor, é so por %f = Nome: ana Idade: 30.987500\n",
    "#    # %.2f = no caso aqui ele faz arredondamento de duas casas decimais, no caso fica 30,99, porque ele sabe que é um float e que é 2 casas decimais. Ele tenta arredondar o mais preciso possivel.\n",
    "\n",
    "# print('Nome: %s Idade: %.1f' % (nome, idade)) #aqui novamente, ele arredonda so com 1 casa decimal, 31.0 (30.9835 )\n",
    "# print('Nome: %s Idade: %.1f' % (nome, idade)) #Ele arredonda mais proximo possivel do numero, no caso se for 98 ele vai para o 31, ja se for 30.9235, ele vai dar 30.9\n",
    "\n",
    "#São as 3 maneiras de basicas de interpolação\n",
    "print('Nome: %s Idade: %d' % (nome, idade)) #versao mais antiga\n",
    "print('Nome: {0} Idade: {1}'.format(nome, idade)) #python 3.6 < menor que 3.6 é a mais recomendavel\n",
    "print(f'Nome: {nome} Idade: {idade} {2 ** 8 + 1}') # versao apartir do 3.6, f string. Nesse caso da para colocar uma expressao dentro, por ex: Nome: ana Idade: 30 257\n",
    "\n",
    "s = Template ('Nome: $nome Idade: $idade')\n",
    "#           primeiro nome  de baixo recebe o $nome, ou seja, primeiro nome é o do template, e o segundo nome é da variavel criada la em cima.\n",
    "print(s.substitute(nome=nome, idade=idade))   \n",
    "#seguindo assim, idade 1 é o do $idade, e o segundo é do (nome, idade = 'ana', 30.)"
   ]
  },
  {
   "cell_type": "code",
   "execution_count": 22,
   "metadata": {},
   "outputs": [
    {
     "name": "stdout",
     "output_type": "stream",
     "text": [
      "Nome: Alfredo Idade: 55\n",
      "Lagarto: Alfredo Tamanho: 55\n"
     ]
    }
   ],
   "source": [
    "nome, idade = 'Alfredo', 55   \n",
    "\n",
    "print(f'Nome: {nome} Idade: {idade}')\n",
    "#entao aqui atribuiu Nome + nome, Idade + idade, ou seja Nome: Alfredo Idade: 55. Pegou e fez uma expressão, no primeiro Nome, e no Idade, e atribuiu da variavel criada, no caso Alfredo e 55\n",
    "print(f'Lagarto: {nome} Tamanho: {idade}')\n",
    "#ou seja= Lagarto: Alfredo Tamanho: 55"
   ]
  },
  {
   "cell_type": "markdown",
   "metadata": {},
   "source": []
  }
 ],
 "metadata": {
  "kernelspec": {
   "display_name": "Python 3",
   "language": "python",
   "name": "python3"
  },
  "language_info": {
   "codemirror_mode": {
    "name": "ipython",
    "version": 3
   },
   "file_extension": ".py",
   "mimetype": "text/x-python",
   "name": "python",
   "nbconvert_exporter": "python",
   "pygments_lexer": "ipython3",
   "version": "3.7.3"
  }
 },
 "nbformat": 4,
 "nbformat_minor": 2
}
